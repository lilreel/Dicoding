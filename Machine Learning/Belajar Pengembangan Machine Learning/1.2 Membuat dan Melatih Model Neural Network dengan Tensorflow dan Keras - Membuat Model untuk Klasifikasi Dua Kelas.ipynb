{
 "cells": [
  {
   "cell_type": "code",
   "execution_count": 1,
   "id": "e9d08ffb-7df2-4a90-876b-1cf4635560d6",
   "metadata": {},
   "outputs": [],
   "source": [
    "import pandas as pd\n",
    "df = pd.read_csv('Dataset/Oranges vs Grapefruit/citrus.csv')"
   ]
  },
  {
   "cell_type": "code",
   "execution_count": 2,
   "id": "093eaa71-1b69-4bf4-86d7-810db316530f",
   "metadata": {},
   "outputs": [
    {
     "name": "stdout",
     "output_type": "stream",
     "text": [
      "<class 'pandas.core.frame.DataFrame'>\n",
      "RangeIndex: 10000 entries, 0 to 9999\n",
      "Data columns (total 6 columns):\n",
      " #   Column    Non-Null Count  Dtype  \n",
      "---  ------    --------------  -----  \n",
      " 0   name      10000 non-null  object \n",
      " 1   diameter  10000 non-null  float64\n",
      " 2   weight    10000 non-null  float64\n",
      " 3   red       10000 non-null  int64  \n",
      " 4   green     10000 non-null  int64  \n",
      " 5   blue      10000 non-null  int64  \n",
      "dtypes: float64(2), int64(3), object(1)\n",
      "memory usage: 468.9+ KB\n"
     ]
    }
   ],
   "source": [
    "df.info()"
   ]
  },
  {
   "cell_type": "code",
   "execution_count": 3,
   "id": "df0eec5d-69d3-4fc9-a7f5-22ac16441b1f",
   "metadata": {},
   "outputs": [
    {
     "data": {
      "text/html": [
       "<div>\n",
       "<style scoped>\n",
       "    .dataframe tbody tr th:only-of-type {\n",
       "        vertical-align: middle;\n",
       "    }\n",
       "\n",
       "    .dataframe tbody tr th {\n",
       "        vertical-align: top;\n",
       "    }\n",
       "\n",
       "    .dataframe thead th {\n",
       "        text-align: right;\n",
       "    }\n",
       "</style>\n",
       "<table border=\"1\" class=\"dataframe\">\n",
       "  <thead>\n",
       "    <tr style=\"text-align: right;\">\n",
       "      <th></th>\n",
       "      <th>name</th>\n",
       "      <th>diameter</th>\n",
       "      <th>weight</th>\n",
       "      <th>red</th>\n",
       "      <th>green</th>\n",
       "      <th>blue</th>\n",
       "    </tr>\n",
       "  </thead>\n",
       "  <tbody>\n",
       "    <tr>\n",
       "      <th>0</th>\n",
       "      <td>orange</td>\n",
       "      <td>2.96</td>\n",
       "      <td>86.76</td>\n",
       "      <td>172</td>\n",
       "      <td>85</td>\n",
       "      <td>2</td>\n",
       "    </tr>\n",
       "    <tr>\n",
       "      <th>1</th>\n",
       "      <td>orange</td>\n",
       "      <td>3.91</td>\n",
       "      <td>88.05</td>\n",
       "      <td>166</td>\n",
       "      <td>78</td>\n",
       "      <td>3</td>\n",
       "    </tr>\n",
       "    <tr>\n",
       "      <th>2</th>\n",
       "      <td>orange</td>\n",
       "      <td>4.42</td>\n",
       "      <td>95.17</td>\n",
       "      <td>156</td>\n",
       "      <td>81</td>\n",
       "      <td>2</td>\n",
       "    </tr>\n",
       "    <tr>\n",
       "      <th>3</th>\n",
       "      <td>orange</td>\n",
       "      <td>4.47</td>\n",
       "      <td>95.60</td>\n",
       "      <td>163</td>\n",
       "      <td>81</td>\n",
       "      <td>4</td>\n",
       "    </tr>\n",
       "    <tr>\n",
       "      <th>4</th>\n",
       "      <td>orange</td>\n",
       "      <td>4.48</td>\n",
       "      <td>95.76</td>\n",
       "      <td>161</td>\n",
       "      <td>72</td>\n",
       "      <td>9</td>\n",
       "    </tr>\n",
       "  </tbody>\n",
       "</table>\n",
       "</div>"
      ],
      "text/plain": [
       "     name  diameter  weight  red  green  blue\n",
       "0  orange      2.96   86.76  172     85     2\n",
       "1  orange      3.91   88.05  166     78     3\n",
       "2  orange      4.42   95.17  156     81     2\n",
       "3  orange      4.47   95.60  163     81     4\n",
       "4  orange      4.48   95.76  161     72     9"
      ]
     },
     "execution_count": 3,
     "metadata": {},
     "output_type": "execute_result"
    }
   ],
   "source": [
    "df.head()"
   ]
  },
  {
   "cell_type": "code",
   "execution_count": 4,
   "id": "6422a5b7-5685-4132-bb0f-3ec36cb13c3c",
   "metadata": {},
   "outputs": [
    {
     "name": "stderr",
     "output_type": "stream",
     "text": [
      "C:\\Users\\Chalil.LAPTOP-SJJE08SR\\AppData\\Local\\Temp\\ipykernel_18992\\2367022965.py:1: SettingWithCopyWarning: \n",
      "A value is trying to be set on a copy of a slice from a DataFrame\n",
      "\n",
      "See the caveats in the documentation: https://pandas.pydata.org/pandas-docs/stable/user_guide/indexing.html#returning-a-view-versus-a-copy\n",
      "  df.name[df.name == 'orange'] = 0\n",
      "C:\\Users\\Chalil.LAPTOP-SJJE08SR\\AppData\\Local\\Temp\\ipykernel_18992\\2367022965.py:2: SettingWithCopyWarning: \n",
      "A value is trying to be set on a copy of a slice from a DataFrame\n",
      "\n",
      "See the caveats in the documentation: https://pandas.pydata.org/pandas-docs/stable/user_guide/indexing.html#returning-a-view-versus-a-copy\n",
      "  df.name[df.name == 'grapefruit'] = 1\n"
     ]
    }
   ],
   "source": [
    "df.name[df.name == 'orange'] = 0\n",
    "df.name[df.name == 'grapefruit'] = 1"
   ]
  },
  {
   "cell_type": "code",
   "execution_count": 5,
   "id": "48c930ce-8944-4f10-a48d-003a9ebe8e3f",
   "metadata": {},
   "outputs": [],
   "source": [
    "dataset = df.values"
   ]
  },
  {
   "cell_type": "code",
   "execution_count": 6,
   "id": "1983998a-b379-4696-85fe-b4fcb5369703",
   "metadata": {},
   "outputs": [
    {
     "data": {
      "text/plain": [
       "array([[0, 2.96, 86.76, 172, 85, 2],\n",
       "       [0, 3.91, 88.05, 166, 78, 3],\n",
       "       [0, 4.42, 95.17, 156, 81, 2],\n",
       "       ...,\n",
       "       [1, 15.59, 256.5, 168, 82, 20],\n",
       "       [1, 15.92, 260.14, 142, 72, 11],\n",
       "       [1, 16.45, 261.51, 152, 74, 2]], dtype=object)"
      ]
     },
     "execution_count": 6,
     "metadata": {},
     "output_type": "execute_result"
    }
   ],
   "source": [
    "dataset"
   ]
  },
  {
   "cell_type": "code",
   "execution_count": 7,
   "id": "20405da6-8460-4555-bdd6-0ae31d4c1af1",
   "metadata": {},
   "outputs": [],
   "source": [
    "# pilih 5 kolom terakhir sebagai atribut\n",
    "X = dataset[:,1:6]\n",
    "# bilangan sebelum koma untuk memilih baris pada dataframe\n",
    "# bilangan setelah koma untuk memilih kolom pada dataframe"
   ]
  },
  {
   "cell_type": "code",
   "execution_count": 8,
   "id": "e950986b-fe5e-4447-8136-47db13f8e9ed",
   "metadata": {},
   "outputs": [],
   "source": [
    "y = dataset[:,0]"
   ]
  },
  {
   "cell_type": "code",
   "execution_count": 9,
   "id": "f1e4ba76-7cc2-42ef-9569-a3aa02abb95a",
   "metadata": {},
   "outputs": [
    {
     "data": {
      "text/plain": [
       "array([[0.        , 0.        , 0.74025974, 0.63529412, 0.        ],\n",
       "       [0.07042254, 0.00738197, 0.66233766, 0.55294118, 0.01851852],\n",
       "       [0.10822832, 0.04812589, 0.53246753, 0.58823529, 0.        ],\n",
       "       ...,\n",
       "       [0.93624907, 0.97133047, 0.68831169, 0.6       , 0.33333333],\n",
       "       [0.96071164, 0.99216023, 0.35064935, 0.48235294, 0.16666667],\n",
       "       [1.        , 1.        , 0.48051948, 0.50588235, 0.        ]])"
      ]
     },
     "execution_count": 9,
     "metadata": {},
     "output_type": "execute_result"
    }
   ],
   "source": [
    "# Normalization\n",
    "from sklearn import preprocessing\n",
    "min_max_scaler = preprocessing.MinMaxScaler()\n",
    "X_scale = min_max_scaler.fit_transform(X)\n",
    "X_scale"
   ]
  },
  {
   "cell_type": "code",
   "execution_count": 10,
   "id": "6b7916cc-7b52-4651-8af1-5453bc358d8e",
   "metadata": {},
   "outputs": [],
   "source": [
    "# pisahkan data training dan testing\n",
    "from sklearn.model_selection import train_test_split\n",
    "X_train, X_test, Y_train, Y_test = train_test_split(X_scale, y, test_size=0.3)"
   ]
  },
  {
   "cell_type": "code",
   "execution_count": 11,
   "id": "27caf39d-b3fe-44db-877c-aecbc7defff9",
   "metadata": {},
   "outputs": [],
   "source": [
    "import numpy as np\n",
    " \n",
    "Y_train = Y_train.astype(np.float32)\n",
    "Y_test = Y_test.astype(np.float32)"
   ]
  },
  {
   "cell_type": "code",
   "execution_count": 12,
   "id": "334b69c9-d781-4fb2-9aba-ee245f23bac7",
   "metadata": {},
   "outputs": [],
   "source": [
    "from keras.models import Sequential\n",
    "from keras.layers import Dense\n"
   ]
  },
  {
   "cell_type": "code",
   "execution_count": 13,
   "id": "92e661a8-2fa7-4cea-97b3-37a308b00ed9",
   "metadata": {},
   "outputs": [],
   "source": [
    "model = Sequential([    \n",
    "                    Dense(32, activation='relu', input_shape=(5,)),    \n",
    "                    Dense(32, activation='relu'),    \n",
    "                    Dense(1, activation='sigmoid'),])"
   ]
  },
  {
   "cell_type": "code",
   "execution_count": 14,
   "id": "939fe820-14f1-4172-b149-41f6eedba534",
   "metadata": {},
   "outputs": [],
   "source": [
    "model.compile(optimizer='sgd',\n",
    "              loss='binary_crossentropy',\n",
    "              metrics=['accuracy'])"
   ]
  },
  {
   "cell_type": "code",
   "execution_count": null,
   "id": "c52ae9cb-637a-4f68-b5d6-b3a6ce5c79c3",
   "metadata": {},
   "outputs": [
    {
     "name": "stdout",
     "output_type": "stream",
     "text": [
      "Epoch 1/100\n",
      "219/219 [==============================] - 1s 924us/step - loss: 0.6959 - accuracy: 0.4649\n",
      "Epoch 2/100\n",
      "219/219 [==============================] - 0s 973us/step - loss: 0.6652 - accuracy: 0.6129\n",
      "Epoch 3/100\n",
      "219/219 [==============================] - 0s 959us/step - loss: 0.6226 - accuracy: 0.8180\n",
      "Epoch 4/100\n",
      "219/219 [==============================] - 0s 944us/step - loss: 0.5596 - accuracy: 0.9003\n",
      "Epoch 5/100\n",
      "219/219 [==============================] - 0s 944us/step - loss: 0.4768 - accuracy: 0.9196\n",
      "Epoch 6/100\n",
      "219/219 [==============================] - 0s 956us/step - loss: 0.3887 - accuracy: 0.9244\n",
      "Epoch 7/100\n",
      "219/219 [==============================] - 0s 901us/step - loss: 0.3154 - accuracy: 0.9250\n",
      "Epoch 8/100\n",
      "219/219 [==============================] - 0s 914us/step - loss: 0.2656 - accuracy: 0.9240\n",
      "Epoch 9/100\n",
      "219/219 [==============================] - 0s 940us/step - loss: 0.2350 - accuracy: 0.9251\n",
      "Epoch 10/100\n",
      "219/219 [==============================] - 0s 933us/step - loss: 0.2166 - accuracy: 0.9253\n",
      "Epoch 11/100\n",
      "219/219 [==============================] - 0s 900us/step - loss: 0.2051 - accuracy: 0.9251\n",
      "Epoch 12/100\n",
      "219/219 [==============================] - 0s 886us/step - loss: 0.1980 - accuracy: 0.9269\n",
      "Epoch 13/100\n",
      "219/219 [==============================] - 0s 936us/step - loss: 0.1938 - accuracy: 0.9264\n",
      "Epoch 14/100\n",
      "219/219 [==============================] - 0s 920us/step - loss: 0.1910 - accuracy: 0.9253\n",
      "Epoch 15/100\n",
      "219/219 [==============================] - 0s 990us/step - loss: 0.1890 - accuracy: 0.9256\n",
      "Epoch 16/100\n",
      "219/219 [==============================] - 0s 949us/step - loss: 0.1876 - accuracy: 0.9263\n",
      "Epoch 17/100\n",
      "219/219 [==============================] - 0s 951us/step - loss: 0.1868 - accuracy: 0.9269\n",
      "Epoch 18/100\n",
      "219/219 [==============================] - 0s 943us/step - loss: 0.1861 - accuracy: 0.9260\n",
      "Epoch 19/100\n",
      "219/219 [==============================] - 0s 954us/step - loss: 0.1856 - accuracy: 0.9263\n",
      "Epoch 20/100\n",
      "219/219 [==============================] - 0s 947us/step - loss: 0.1853 - accuracy: 0.9269\n",
      "Epoch 21/100\n",
      "219/219 [==============================] - 0s 959us/step - loss: 0.1845 - accuracy: 0.9263\n",
      "Epoch 22/100\n",
      "219/219 [==============================] - 0s 981us/step - loss: 0.1846 - accuracy: 0.9250\n",
      "Epoch 23/100\n",
      "219/219 [==============================] - 0s 955us/step - loss: 0.1851 - accuracy: 0.9259\n",
      "Epoch 24/100\n",
      "219/219 [==============================] - 0s 934us/step - loss: 0.1840 - accuracy: 0.9260\n",
      "Epoch 25/100\n",
      "219/219 [==============================] - 0s 996us/step - loss: 0.1844 - accuracy: 0.9274\n",
      "Epoch 26/100\n",
      "219/219 [==============================] - 0s 942us/step - loss: 0.1841 - accuracy: 0.9253\n",
      "Epoch 27/100\n",
      "219/219 [==============================] - 0s 927us/step - loss: 0.1846 - accuracy: 0.9267\n",
      "Epoch 28/100\n",
      "219/219 [==============================] - 0s 919us/step - loss: 0.1844 - accuracy: 0.9253\n",
      "Epoch 29/100\n",
      "219/219 [==============================] - 0s 883us/step - loss: 0.1842 - accuracy: 0.9259\n",
      "Epoch 30/100\n",
      "219/219 [==============================] - 0s 897us/step - loss: 0.1841 - accuracy: 0.9267\n",
      "Epoch 31/100\n",
      "219/219 [==============================] - 0s 1ms/step - loss: 0.1839 - accuracy: 0.9266\n",
      "Epoch 32/100\n",
      "219/219 [==============================] - 0s 953us/step - loss: 0.1832 - accuracy: 0.9274\n",
      "Epoch 33/100\n",
      "219/219 [==============================] - 0s 938us/step - loss: 0.1840 - accuracy: 0.9240\n",
      "Epoch 34/100\n",
      "219/219 [==============================] - 0s 971us/step - loss: 0.1843 - accuracy: 0.9263\n",
      "Epoch 35/100\n",
      "219/219 [==============================] - 0s 934us/step - loss: 0.1838 - accuracy: 0.9260\n",
      "Epoch 36/100\n",
      "219/219 [==============================] - 0s 964us/step - loss: 0.1837 - accuracy: 0.9263\n",
      "Epoch 37/100\n",
      "219/219 [==============================] - 0s 997us/step - loss: 0.1833 - accuracy: 0.9250\n",
      "Epoch 38/100\n",
      "219/219 [==============================] - 0s 1ms/step - loss: 0.1840 - accuracy: 0.9253\n",
      "Epoch 39/100\n",
      "219/219 [==============================] - 0s 929us/step - loss: 0.1839 - accuracy: 0.9260\n",
      "Epoch 40/100\n",
      "219/219 [==============================] - 0s 941us/step - loss: 0.1838 - accuracy: 0.9270\n",
      "Epoch 41/100\n",
      "219/219 [==============================] - 0s 1ms/step - loss: 0.1834 - accuracy: 0.9253\n",
      "Epoch 42/100\n",
      "219/219 [==============================] - 0s 956us/step - loss: 0.1837 - accuracy: 0.9257\n",
      "Epoch 43/100\n",
      "219/219 [==============================] - 0s 959us/step - loss: 0.1838 - accuracy: 0.9259\n",
      "Epoch 44/100\n",
      "219/219 [==============================] - 0s 976us/step - loss: 0.1835 - accuracy: 0.9269\n",
      "Epoch 45/100\n",
      "219/219 [==============================] - 0s 937us/step - loss: 0.1837 - accuracy: 0.9266\n",
      "Epoch 46/100\n",
      "219/219 [==============================] - 0s 939us/step - loss: 0.1833 - accuracy: 0.9260\n",
      "Epoch 47/100\n",
      "219/219 [==============================] - 0s 942us/step - loss: 0.1835 - accuracy: 0.9260\n",
      "Epoch 48/100\n",
      "219/219 [==============================] - 0s 938us/step - loss: 0.1832 - accuracy: 0.9259\n",
      "Epoch 49/100\n",
      "219/219 [==============================] - 0s 958us/step - loss: 0.1835 - accuracy: 0.9257\n",
      "Epoch 50/100\n",
      "219/219 [==============================] - 0s 950us/step - loss: 0.1832 - accuracy: 0.9269\n",
      "Epoch 51/100\n",
      "219/219 [==============================] - 0s 973us/step - loss: 0.1836 - accuracy: 0.9256\n",
      "Epoch 52/100\n",
      "219/219 [==============================] - 0s 923us/step - loss: 0.1836 - accuracy: 0.9263\n",
      "Epoch 53/100\n",
      "219/219 [==============================] - 0s 965us/step - loss: 0.1836 - accuracy: 0.9261\n",
      "Epoch 54/100\n",
      "219/219 [==============================] - 0s 953us/step - loss: 0.1827 - accuracy: 0.9270\n",
      "Epoch 55/100\n",
      "219/219 [==============================] - 0s 958us/step - loss: 0.1827 - accuracy: 0.9276\n",
      "Epoch 56/100\n",
      "219/219 [==============================] - 0s 976us/step - loss: 0.1835 - accuracy: 0.9260\n",
      "Epoch 57/100\n",
      "219/219 [==============================] - 0s 959us/step - loss: 0.1829 - accuracy: 0.9263\n",
      "Epoch 58/100\n",
      "219/219 [==============================] - 0s 942us/step - loss: 0.1836 - accuracy: 0.9254\n",
      "Epoch 59/100\n",
      "219/219 [==============================] - 0s 941us/step - loss: 0.1832 - accuracy: 0.9261\n",
      "Epoch 60/100\n",
      "219/219 [==============================] - 0s 937us/step - loss: 0.1832 - accuracy: 0.9249\n",
      "Epoch 61/100\n",
      "219/219 [==============================] - 0s 962us/step - loss: 0.1828 - accuracy: 0.9279\n",
      "Epoch 62/100\n",
      "219/219 [==============================] - 0s 909us/step - loss: 0.1829 - accuracy: 0.9247\n",
      "Epoch 63/100\n",
      "219/219 [==============================] - 0s 948us/step - loss: 0.1828 - accuracy: 0.9264\n",
      "Epoch 64/100\n",
      "219/219 [==============================] - 0s 945us/step - loss: 0.1831 - accuracy: 0.9251\n",
      "Epoch 65/100\n",
      "219/219 [==============================] - 0s 944us/step - loss: 0.1833 - accuracy: 0.9244\n",
      "Epoch 66/100\n",
      "219/219 [==============================] - 0s 954us/step - loss: 0.1829 - accuracy: 0.9259\n",
      "Epoch 67/100\n",
      "219/219 [==============================] - 0s 967us/step - loss: 0.1831 - accuracy: 0.9251\n",
      "Epoch 68/100\n",
      "219/219 [==============================] - 0s 978us/step - loss: 0.1832 - accuracy: 0.9259\n",
      "Epoch 69/100\n",
      "219/219 [==============================] - 0s 995us/step - loss: 0.1827 - accuracy: 0.9247\n",
      "Epoch 70/100\n",
      "219/219 [==============================] - 0s 924us/step - loss: 0.1830 - accuracy: 0.9254\n",
      "Epoch 71/100\n",
      "219/219 [==============================] - 0s 943us/step - loss: 0.1829 - accuracy: 0.9259\n",
      "Epoch 72/100\n",
      "219/219 [==============================] - 0s 943us/step - loss: 0.1829 - accuracy: 0.9263\n",
      "Epoch 73/100\n",
      "219/219 [==============================] - 0s 984us/step - loss: 0.1831 - accuracy: 0.9259\n",
      "Epoch 74/100\n",
      "219/219 [==============================] - 0s 949us/step - loss: 0.1829 - accuracy: 0.9250\n",
      "Epoch 75/100\n",
      "  1/219 [..............................] - ETA: 0s - loss: 0.1232 - accuracy: 0.9688"
     ]
    }
   ],
   "source": [
    "model.fit(X_train, Y_train, epochs=100)"
   ]
  },
  {
   "cell_type": "code",
   "execution_count": null,
   "id": "15e995c1-1562-466f-886a-3d2a1a06107f",
   "metadata": {},
   "outputs": [],
   "source": [
    "model.evaluate(X_test, Y_test)\n",
    "# elemen pertama adalah loss dan elemen kedua adalah akurasi"
   ]
  }
 ],
 "metadata": {
  "kernelspec": {
   "display_name": "Python 3 (ipykernel)",
   "language": "python",
   "name": "python3"
  },
  "language_info": {
   "codemirror_mode": {
    "name": "ipython",
    "version": 3
   },
   "file_extension": ".py",
   "mimetype": "text/x-python",
   "name": "python",
   "nbconvert_exporter": "python",
   "pygments_lexer": "ipython3",
   "version": "3.10.7"
  }
 },
 "nbformat": 4,
 "nbformat_minor": 5
}
